{
 "cells": [
  {
   "cell_type": "markdown",
   "metadata": {},
   "source": [
    "Comenzamos importando las librerías. Es importante observar que se están utilizando alias en los paquetes para referenciar y desambiguar los nombres de las funciones que deriven de ellos."
   ]
  },
  {
   "cell_type": "code",
   "execution_count": 1,
   "metadata": {},
   "outputs": [],
   "source": [
    "from pyspark.sql import SparkSession\n",
    "from pyspark.sql import functions as F\n",
    "from pyspark.sql import types as T"
   ]
  },
  {
   "cell_type": "markdown",
   "metadata": {},
   "source": [
    "Creamos la SparkSession con el master en el sistema local."
   ]
  },
  {
   "cell_type": "code",
   "execution_count": 4,
   "metadata": {},
   "outputs": [],
   "source": [
    "spark = (SparkSession \\\n",
    "         .builder \\\n",
    "         .master(\"local\") \\\n",
    "         .enableHiveSupport() \\\n",
    "         .appName(\"Padron_Python\") \\\n",
    "         .getOrCreate())"
   ]
  },
  {
   "cell_type": "markdown",
   "metadata": {},
   "source": [
    "Importamos el set de datos desde una ruta local, declarando las comillas que envuelven los campos, que nos sustituya los campos vacíos por 0, que infiera el esquema y que considere la primera línea como header."
   ]
  },
  {
   "cell_type": "code",
   "execution_count": 5,
   "metadata": {},
   "outputs": [],
   "source": [
    "padronDF = spark.read.format(\"csv\") \\\n",
    "                     .option(\"inferSchema\", True) \\\n",
    "\t\t\t\t\t .option(\"header\", True) \\\n",
    "\t\t\t\t\t .option(\"emptyValue\", \"0\") \\\n",
    "\t\t\t\t\t .option(\"quote\", \"\\\"\") \\\n",
    "\t\t\t\t\t .option(\"escape\", \"\\\"\") \\\n",
    "\t\t\t\t\t .option(\"sep\", \";\") \\\n",
    "\t\t\t\t\t .option(\"encoding\", \"ISO-8859-1\") \\\n",
    "\t\t\t\t\t .load(\"C:/Users/luismiguel.dominguez/Escritorio/TFM/Dataset/padron1.txt\")"
   ]
  },
  {
   "cell_type": "markdown",
   "metadata": {},
   "source": [
    "Mostramos los tipos para ver que todo se ha importado correctamente."
   ]
  },
  {
   "cell_type": "code",
   "execution_count": 6,
   "metadata": {},
   "outputs": [
    {
     "data": {
      "text/plain": [
       "[('COD_DISTRITO', 'int'),\n",
       " ('DESC_DISTRITO', 'string'),\n",
       " ('COD_DIST_BARRIO', 'int'),\n",
       " ('DESC_BARRIO', 'string'),\n",
       " ('COD_BARRIO', 'int'),\n",
       " ('COD_DIST_SECCION', 'int'),\n",
       " ('COD_SECCION', 'int'),\n",
       " ('COD_EDAD_INT', 'int'),\n",
       " ('EspanolesHombres', 'int'),\n",
       " ('EspanolesMujeres', 'int'),\n",
       " ('ExtranjerosHombres', 'int'),\n",
       " ('ExtranjerosMujeres', 'int')]"
      ]
     },
     "execution_count": 6,
     "metadata": {},
     "output_type": "execute_result"
    }
   ],
   "source": [
    "padronDF.dtypes"
   ]
  },
  {
   "cell_type": "markdown",
   "metadata": {},
   "source": [
    "Comprobamos el número de barrios y de distritos diferentes que hay en nuestro dataset."
   ]
  },
  {
   "cell_type": "code",
   "execution_count": 7,
   "metadata": {},
   "outputs": [
    {
     "name": "stdout",
     "output_type": "stream",
     "text": [
      "+--------------------+\n",
      "|         DESC_BARRIO|\n",
      "+--------------------+\n",
      "|EMBAJADORES         |\n",
      "|SANTA EUGENIA       |\n",
      "|LEGAZPI             |\n",
      "|DELICIAS            |\n",
      "|CIUDAD UNIVERSITARIA|\n",
      "|CONCEPCION          |\n",
      "|VENTAS              |\n",
      "|IMPERIAL            |\n",
      "|SAN FERMIN          |\n",
      "|PEÑA GRANDE         |\n",
      "|ESTRELLA            |\n",
      "|TRAFALGAR           |\n",
      "|ALUCHE              |\n",
      "|PUERTA BONITA       |\n",
      "|ADELFAS             |\n",
      "|PUEBLO NUEVO        |\n",
      "|PALOMAS             |\n",
      "|CORRALEJOS          |\n",
      "|LOS CARMENES        |\n",
      "|VALDEZARZA          |\n",
      "|PUERTA DEL ANGEL    |\n",
      "|ORCASITAS           |\n",
      "|ZOFIO               |\n",
      "|SAN ISIDRO          |\n",
      "|LOS JERONIMOS       |\n",
      "|NIÑO JESUS          |\n",
      "|ARCOS               |\n",
      "|NUEVA ESPAÑA        |\n",
      "|QUINTANA            |\n",
      "|AEROPUERTO          |\n",
      "|FUENTELARREINA      |\n",
      "|VALLEHERMOSO        |\n",
      "|CANILLAS            |\n",
      "|PALACIO             |\n",
      "|ALMENDRALES         |\n",
      "|SAN CRISTOBAL       |\n",
      "|CORTES              |\n",
      "|CASTELLANA          |\n",
      "|EL SALVADOR         |\n",
      "|CHOPERA             |\n",
      "+--------------------+\n",
      "only showing top 40 rows\n",
      "\n"
     ]
    },
    {
     "data": {
      "text/plain": [
       "132"
      ]
     },
     "execution_count": 7,
     "metadata": {},
     "output_type": "execute_result"
    }
   ],
   "source": [
    "padronDF.select(F.col(\"DESC_BARRIO\")).distinct().show(40)\n",
    "padronDF.select(F.col(\"DESC_BARRIO\")).distinct().count()"
   ]
  },
  {
   "cell_type": "code",
   "execution_count": 8,
   "metadata": {},
   "outputs": [
    {
     "name": "stdout",
     "output_type": "stream",
     "text": [
      "+--------------------+\n",
      "|       DESC_DISTRITO|\n",
      "+--------------------+\n",
      "|VILLA DE VALLECAS   |\n",
      "|SALAMANCA           |\n",
      "|CHAMBERI            |\n",
      "|CHAMARTIN           |\n",
      "|TETUAN              |\n",
      "|VILLAVERDE          |\n",
      "|MORATALAZ           |\n",
      "|CENTRO              |\n",
      "|USERA               |\n",
      "|VICALVARO           |\n",
      "|HORTALEZA           |\n",
      "|CIUDAD LINEAL       |\n",
      "|FUENCARRAL-EL PARDO |\n",
      "|MONCLOA-ARAVACA     |\n",
      "|SAN BLAS-CANILLEJAS |\n",
      "|RETIRO              |\n",
      "|LATINA              |\n",
      "|BARAJAS             |\n",
      "|ARGANZUELA          |\n",
      "|CARABANCHEL         |\n",
      "|PUENTE DE VALLECAS  |\n",
      "+--------------------+\n",
      "\n"
     ]
    },
    {
     "data": {
      "text/plain": [
       "21"
      ]
     },
     "execution_count": 8,
     "metadata": {},
     "output_type": "execute_result"
    }
   ],
   "source": [
    "padronDF.select(F.col(\"DESC_DISTRITO\")).distinct().show(40)\n",
    "padronDF.select(F.col(\"DESC_DISTRITO\")).distinct().count()"
   ]
  },
  {
   "cell_type": "markdown",
   "metadata": {},
   "source": [
    "Como podemos ver, aún sobran espacios en blanco tras los campos tipo string."
   ]
  },
  {
   "cell_type": "code",
   "execution_count": 9,
   "metadata": {},
   "outputs": [
    {
     "name": "stdout",
     "output_type": "stream",
     "text": [
      "+--------------------+---------------------+\n",
      "|       DESC_DISTRITO|length(DESC_DISTRITO)|\n",
      "+--------------------+---------------------+\n",
      "|MONCLOA-ARAVACA     |                   20|\n",
      "|CARABANCHEL         |                   20|\n",
      "|ARGANZUELA          |                   20|\n",
      "|CHAMARTIN           |                   20|\n",
      "|BARAJAS             |                   20|\n",
      "|TETUAN              |                   20|\n",
      "|VILLAVERDE          |                   20|\n",
      "|CHAMBERI            |                   20|\n",
      "|LATINA              |                   20|\n",
      "|USERA               |                   20|\n",
      "|CENTRO              |                   20|\n",
      "|HORTALEZA           |                   20|\n",
      "|VICALVARO           |                   20|\n",
      "|MORATALAZ           |                   20|\n",
      "|CIUDAD LINEAL       |                   20|\n",
      "|SALAMANCA           |                   20|\n",
      "|FUENCARRAL-EL PARDO |                   20|\n",
      "|VILLA DE VALLECAS   |                   20|\n",
      "|RETIRO              |                   20|\n",
      "|PUENTE DE VALLECAS  |                   20|\n",
      "+--------------------+---------------------+\n",
      "only showing top 20 rows\n",
      "\n"
     ]
    }
   ],
   "source": [
    "padronDF.select(F.col(\"DESC_DISTRITO\"), F.length(\"DESC_DISTRITO\")).distinct().show()"
   ]
  },
  {
   "cell_type": "markdown",
   "metadata": {},
   "source": [
    "Los quitamos con la función TRIM y mostramos que el resultado es el adecuado."
   ]
  },
  {
   "cell_type": "code",
   "execution_count": 10,
   "metadata": {},
   "outputs": [
    {
     "name": "stdout",
     "output_type": "stream",
     "text": [
      "+-------------------+---------------------+\n",
      "|      DESC_DISTRITO|length(DESC_DISTRITO)|\n",
      "+-------------------+---------------------+\n",
      "|         ARGANZUELA|                   10|\n",
      "|FUENCARRAL-EL PARDO|                   19|\n",
      "|              USERA|                    5|\n",
      "|          SALAMANCA|                    9|\n",
      "| PUENTE DE VALLECAS|                   18|\n",
      "|  VILLA DE VALLECAS|                   17|\n",
      "|           CHAMBERI|                    8|\n",
      "|          VICALVARO|                    9|\n",
      "|             RETIRO|                    6|\n",
      "|             CENTRO|                    6|\n",
      "|SAN BLAS-CANILLEJAS|                   19|\n",
      "|          CHAMARTIN|                    9|\n",
      "|             LATINA|                    6|\n",
      "|          MORATALAZ|                    9|\n",
      "|            BARAJAS|                    7|\n",
      "|             TETUAN|                    6|\n",
      "|      CIUDAD LINEAL|                   13|\n",
      "|          HORTALEZA|                    9|\n",
      "|         VILLAVERDE|                   10|\n",
      "|        CARABANCHEL|                   11|\n",
      "+-------------------+---------------------+\n",
      "only showing top 20 rows\n",
      "\n"
     ]
    }
   ],
   "source": [
    "padronDF_bueno = padronDF.withColumn(\"DESC_DISTRITO\", F.rtrim(\"DESC_DISTRITO\")) \\\n",
    "                         .withColumn(\"DESC_BARRIO\", F.rtrim(\"DESC_BARRIO\"))\n",
    "\n",
    "padronDF_bueno.select(F.col(\"DESC_DISTRITO\"), F.length(\"DESC_DISTRITO\")).distinct().show()"
   ]
  },
  {
   "cell_type": "markdown",
   "metadata": {},
   "source": [
    "Lanzamos una query compleja similar a la que lanzamos en la shell para comprobar que podemos usar gran variedad de funciones sin problema. Guardamos este DataFrame en caché para que la siguiente consulta que lo utilice sea más rápida."
   ]
  },
  {
   "cell_type": "code",
   "execution_count": 11,
   "metadata": {},
   "outputs": [
    {
     "name": "stdout",
     "output_type": "stream",
     "text": [
      "+------------+-------+------+------+\n",
      "|COD_EDAD_INT|BARAJAS|CENTRO|RETIRO|\n",
      "+------------+-------+------+------+\n",
      "|           0|    170|   259|   318|\n",
      "|           1|    179|   260|   370|\n",
      "|           2|    209|   255|   396|\n",
      "|           3|    235|   244|   426|\n",
      "|           4|    250|   244|   436|\n",
      "|           5|    255|   250|   431|\n",
      "|           6|    243|   251|   448|\n",
      "|           7|    270|   232|   431|\n",
      "|           8|    252|   263|   438|\n",
      "|           9|    266|   265|   422|\n",
      "|          10|    264|   260|   416|\n",
      "|          11|    263|   260|   437|\n",
      "|          12|    285|   259|   427|\n",
      "|          13|    252|   250|   398|\n",
      "|          14|    282|   269|   431|\n",
      "|          15|    263|   247|   423|\n",
      "|          16|    244|   258|   412|\n",
      "|          17|    257|   279|   443|\n",
      "|          18|    213|   256|   413|\n",
      "|          19|    207|   265|   430|\n",
      "+------------+-------+------+------+\n",
      "only showing top 20 rows\n",
      "\n"
     ]
    }
   ],
   "source": [
    "cont = padronDF_bueno.select(F.col(\"COD_EDAD_INT\"), F.col(\"DESC_DISTRITO\"),F.col(\"espanolesmujeres\")) \\\n",
    "                     .where(F.col(\"DESC_DISTRITO\").isin(\"CENTRO\", \"BARAJAS\", \"RETIRO\")) \\\n",
    "                     .groupBy(F.col(\"COD_EDAD_INT\"))\\ \n",
    "                     .pivot(\"DESC_DISTRITO\").sum(\"espanolesmujeres\") \\\n",
    "                     .orderBy(\"COD_EDAD_INT\")\n",
    "\n",
    "cont.cache().show()"
   ]
  },
  {
   "cell_type": "markdown",
   "metadata": {},
   "source": [
    "Calculamos los porcentajes."
   ]
  },
  {
   "cell_type": "code",
   "execution_count": 12,
   "metadata": {},
   "outputs": [
    {
     "name": "stdout",
     "output_type": "stream",
     "text": [
      "+------------+-------+------+------+----+---------+--------+--------+\n",
      "|COD_EDAD_INT|BARAJAS|CENTRO|RETIRO|Suma|BARAJAS %|CENTRO %|RETIRO %|\n",
      "+------------+-------+------+------+----+---------+--------+--------+\n",
      "|           0|    170|   259|   318| 747|    22.76|   34.67|   42.57|\n",
      "|           1|    179|   260|   370| 809|    22.13|   32.14|   45.74|\n",
      "|           2|    209|   255|   396| 860|     24.3|   29.65|   46.05|\n",
      "|           3|    235|   244|   426| 905|    25.97|   26.96|   47.07|\n",
      "|           4|    250|   244|   436| 930|    26.88|   26.24|   46.88|\n",
      "|           5|    255|   250|   431| 936|    27.24|   26.71|   46.05|\n",
      "|           6|    243|   251|   448| 942|     25.8|   26.65|   47.56|\n",
      "|           7|    270|   232|   431| 933|    28.94|   24.87|    46.2|\n",
      "|           8|    252|   263|   438| 953|    26.44|    27.6|   45.96|\n",
      "|           9|    266|   265|   422| 953|    27.91|   27.81|   44.28|\n",
      "|          10|    264|   260|   416| 940|    28.09|   27.66|   44.26|\n",
      "|          11|    263|   260|   437| 960|     27.4|   27.08|   45.52|\n",
      "|          12|    285|   259|   427| 971|    29.35|   26.67|   43.98|\n",
      "|          13|    252|   250|   398| 900|     28.0|   27.78|   44.22|\n",
      "|          14|    282|   269|   431| 982|    28.72|   27.39|   43.89|\n",
      "|          15|    263|   247|   423| 933|    28.19|   26.47|   45.34|\n",
      "|          16|    244|   258|   412| 914|     26.7|   28.23|   45.08|\n",
      "|          17|    257|   279|   443| 979|    26.25|    28.5|   45.25|\n",
      "|          18|    213|   256|   413| 882|    24.15|   29.02|   46.83|\n",
      "|          19|    207|   265|   430| 902|    22.95|   29.38|   47.67|\n",
      "+------------+-------+------+------+----+---------+--------+--------+\n",
      "only showing top 20 rows\n",
      "\n"
     ]
    }
   ],
   "source": [
    "cont.select(\"*\").withColumn(\"Suma\", (F.col(\"BARAJAS\") + F.col(\"CENTRO\")+F.col(\"RETIRO\"))) \\\n",
    "                .withColumn(\"BARAJAS %\", F.round(F.col(\"BARAJAS\")/F.col(\"Suma\")*100,2)) \\\n",
    "                .withColumn(\"CENTRO %\", F.round(F.col(\"centro\")/F.col(\"Suma\")*100,2)) \\\n",
    "                .withColumn(\"RETIRO %\", F.round(F.col(\"retiro\")/F.col(\"Suma\")*100,2)).show()"
   ]
  },
  {
   "cell_type": "markdown",
   "metadata": {},
   "source": [
    "Guardamos el resultado de la query en una variable y la escribimos en formato parquet en nuestro sistema de ficheros local."
   ]
  },
  {
   "cell_type": "code",
   "execution_count": 15,
   "metadata": {},
   "outputs": [],
   "source": [
    "escritura_DF = cont.select(\"*\").withColumn(\"Suma\", (F.col(\"BARAJAS\") + F.col(\"CENTRO\")+F.col(\"RETIRO\"))) \\\n",
    "                .withColumn(\"BARAJAS %\", F.round(F.col(\"BARAJAS\")/F.col(\"Suma\")*100,2)) \\\n",
    "                .withColumn(\"CENTRO %\", F.round(F.col(\"centro\")/F.col(\"Suma\")*100,2)) \\\n",
    "                .withColumn(\"RETIRO %\", F.round(F.col(\"retiro\")/F.col(\"Suma\")*100,2)).show()\n",
    "\n",
    "\n",
    "escritura_DF.write.parquet(\"C:/Users/luismiguel.dominguez/Escritorio/TFM/Dataset/output/padron_output.txt\")"
   ]
  }
 ],
 "metadata": {
  "kernelspec": {
   "display_name": "Python 3",
   "language": "python",
   "name": "python3"
  },
  "language_info": {
   "codemirror_mode": {
    "name": "ipython",
    "version": 3
   },
   "file_extension": ".py",
   "mimetype": "text/x-python",
   "name": "python",
   "nbconvert_exporter": "python",
   "pygments_lexer": "ipython3",
   "version": "3.8.5"
  }
 },
 "nbformat": 4,
 "nbformat_minor": 4
}
